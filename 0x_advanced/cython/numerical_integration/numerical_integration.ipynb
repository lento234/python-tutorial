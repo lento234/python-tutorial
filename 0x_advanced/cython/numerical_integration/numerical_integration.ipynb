{
 "cells": [
  {
   "cell_type": "markdown",
   "metadata": {},
   "source": [
    "# Numerical integration\n",
    "\n",
    "\\begin{equation}\n",
    "    f(x) = \\sin(x)\\ e^{-x}\n",
    "\\end{equation}\n",
    "\n",
    "- between 0 and $\\pi$\n",
    "- Exact is: ($e^{-\\pi} + 1)/2 = 0.521607$\n"
   ]
  },
  {
   "cell_type": "markdown",
   "metadata": {},
   "source": [
    "## Compile cython code"
   ]
  },
  {
   "cell_type": "code",
   "execution_count": null,
   "metadata": {},
   "outputs": [],
   "source": [
    "!make all"
   ]
  },
  {
   "cell_type": "markdown",
   "metadata": {},
   "source": [
    "## Import c/c++ code"
   ]
  },
  {
   "cell_type": "code",
   "execution_count": null,
   "metadata": {},
   "outputs": [],
   "source": [
    "import integration\n",
    "import integration_v2 # using c/c++ library\n",
    "import math"
   ]
  },
  {
   "cell_type": "markdown",
   "metadata": {},
   "source": [
    "## Profile"
   ]
  },
  {
   "cell_type": "markdown",
   "metadata": {},
   "source": [
    "**Python version:**"
   ]
  },
  {
   "cell_type": "code",
   "execution_count": null,
   "metadata": {},
   "outputs": [],
   "source": [
    "# def f(x):\n",
    "#     return math.sin(x) * math.exp(-x)\n",
    "\n",
    "# def integrate(a, b, N):\n",
    "#     \"\"\"Integrate function sin(x) * exp(-x)\n",
    "#     \"\"\"\n",
    "#     dx = (b - a) / N\n",
    "#     s = 0.0\n",
    "#     for i in range(N):\n",
    "#         s += f(a + (i + 0.5) * dx)\n",
    "#     return s * dx\n",
    "\n",
    "def integrate_python(a, b, N):\n",
    "    \"\"\"Integrate function sin(x) * exp(-x)\n",
    "    \"\"\"\n",
    "    dx = (b - a) / N\n",
    "    s = 0.0\n",
    "    for i in range(N):\n",
    "        x = a + (i + 0.5) * dx\n",
    "        s += math.sin(x) * math.exp(-x)\n",
    "    return s * dx\n"
   ]
  },
  {
   "cell_type": "markdown",
   "metadata": {},
   "source": [
    "**Run two versions**"
   ]
  },
  {
   "cell_type": "code",
   "execution_count": null,
   "metadata": {},
   "outputs": [],
   "source": [
    "a = 0.0\n",
    "b = math.pi\n",
    "N = 1000000\n",
    "\n",
    "exact = (math.exp(-math.pi) + 1) / 2\n",
    "print(\"Exact =\", exact)\n",
    "print(\"Python =\", integrate_python(a,b,N))"
   ]
  },
  {
   "cell_type": "code",
   "execution_count": null,
   "metadata": {},
   "outputs": [],
   "source": [
    "t_python = %timeit -o integrate_python(a, b, N)"
   ]
  },
  {
   "cell_type": "code",
   "execution_count": null,
   "metadata": {},
   "outputs": [],
   "source": [
    "t_cython = %timeit -o integration.integrate(a, b, N)"
   ]
  },
  {
   "cell_type": "code",
   "execution_count": null,
   "metadata": {},
   "outputs": [],
   "source": [
    "t_cython_v2 = %timeit -o integration_v2.integrate(a, b, N)"
   ]
  },
  {
   "cell_type": "markdown",
   "metadata": {},
   "source": [
    "**Compare**"
   ]
  },
  {
   "cell_type": "code",
   "execution_count": null,
   "metadata": {},
   "outputs": [],
   "source": [
    "print(\"Cython (v1) vs. python: {:.1f}x faster\".format(t_python.best/t_cython.best))\n",
    "print(\"Cython (v2) vs. python: {:.1f}x faster\".format(t_python.best/t_cython_v2.best))"
   ]
  },
  {
   "cell_type": "markdown",
   "metadata": {},
   "source": [
    "## Try numba jit"
   ]
  },
  {
   "cell_type": "code",
   "execution_count": null,
   "metadata": {},
   "outputs": [],
   "source": [
    "import numba\n",
    "integrate_numba = numba.jit(['float64(float64, float64, int64)'], nopython=True)(integrate_python)"
   ]
  },
  {
   "cell_type": "code",
   "execution_count": null,
   "metadata": {},
   "outputs": [],
   "source": [
    "t_numba = %timeit -o integrate_numba(a,b,N)"
   ]
  },
  {
   "cell_type": "code",
   "execution_count": null,
   "metadata": {},
   "outputs": [],
   "source": [
    "print(\"Numba vs. python: {:.1f}x faster\".format(t_python.best/t_numba.best))"
   ]
  },
  {
   "cell_type": "markdown",
   "metadata": {},
   "source": [
    "## Cleanup"
   ]
  },
  {
   "cell_type": "code",
   "execution_count": null,
   "metadata": {},
   "outputs": [],
   "source": [
    "!make clean"
   ]
  }
 ],
 "metadata": {
  "kernelspec": {
   "display_name": "Python 3",
   "language": "python",
   "name": "python3"
  },
  "language_info": {
   "codemirror_mode": {
    "name": "ipython",
    "version": 3
   },
   "file_extension": ".py",
   "mimetype": "text/x-python",
   "name": "python",
   "nbconvert_exporter": "python",
   "pygments_lexer": "ipython3",
   "version": "3.7.3"
  }
 },
 "nbformat": 4,
 "nbformat_minor": 4
}
