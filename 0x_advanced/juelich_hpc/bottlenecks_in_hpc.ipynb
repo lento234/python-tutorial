{
 "cells": [
  {
   "cell_type": "markdown",
   "metadata": {},
   "source": [
    "# Bottlenecks in HPC\n",
    "----"
   ]
  },
  {
   "cell_type": "markdown",
   "metadata": {},
   "source": [
    "### Roofline model:\n",
    "- Arthmetic Intensity (Flop/Byte) vs. Performance (GFlops/s)\n",
    "\n",
    "https://en.wikipedia.org/wiki/Roofline_model#/media/File:Example_of_a_Roofline_model.svg\n",
    "\n",
    "### I/O\n",
    "- Lustre scratch (Piz daint): $\\mathcal{O}(100)$ GB/s read/write speed (single node: $\\mathcal{O}(10)$ GB/s read/write speed)"
   ]
  }
 ],
 "metadata": {
  "kernelspec": {
   "display_name": "Python 3",
   "language": "python",
   "name": "python3"
  },
  "language_info": {
   "codemirror_mode": {
    "name": "ipython",
    "version": 3
   },
   "file_extension": ".py",
   "mimetype": "text/x-python",
   "name": "python",
   "nbconvert_exporter": "python",
   "pygments_lexer": "ipython3",
   "version": "3.7.3"
  }
 },
 "nbformat": 4,
 "nbformat_minor": 4
}
